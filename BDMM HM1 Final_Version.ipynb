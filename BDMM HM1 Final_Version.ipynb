{
 "cells": [
  {
   "cell_type": "markdown",
   "metadata": {},
   "source": [
    "# Big Data Modeling and Management Assigment - Homework 1"
   ]
  },
  {
   "cell_type": "markdown",
   "metadata": {},
   "source": [
    "## 🍺 The Beer project  🍺 \n",
    "\n",
    "As it was shown in classes, graph databases are a natural way of navegating distinct types of data. For this first project we will be taking a graph database to analyse beer and breweries!   \n",
    "\n",
    "_For reference the dataset used for this project has been extracted from [kaggle](https://www.kaggle.com/ehallmar/beers-breweries-and-beer-reviews), released by Evan Hallmark. Even though the author does not present metada on the origin of the data it is probably a collection of open data from places like [beeradvocate](https://www.beeradvocate.com/)_.\n",
    "\n"
   ]
  },
  {
   "cell_type": "markdown",
   "metadata": {},
   "source": [
    "### Table of Contents\n",
    "\n",
    "* [Dataset description](#Problemdescription)\n",
    "* [All The Functions you'll need to run queries in Neo4J](#AllTheFunctionsyoullneedtorunqueriesinNeo4J)\n",
    "* [Understanding the Database](#UnderstandingtheDatabase)\n",
    "* [1. How many different countries exist in the database?](#q1)\n",
    "* [2. Most reviews](#q2)\n",
    "* [3. Find the user/users that have the most shared reviews (reviews of the same beers) with the user CTJman?](#q3)\n",
    "* [4. Which Portuguese brewery has the most beers?](#q4)\n",
    "* [5. From those beers (the ones produced in the brewery from the previous question), which has the most reviews?](#q5)\n",
    "* [6. On average how many different beer styles does each brewery produce?](#q6)\n",
    "* [7. Which brewery produces the strongest beers according to ABV?](#q7)\n",
    "* [8. If I typically enjoy a beer due to its aroma and appearance, which beer style should I try?](#q8)\n",
    "* [9. Using Graph Algorithms answer one of the following questions](#q9)\n",
    "* [10. Using Graph Algorithms answer one of the following questions](#q10)\n",
    "* [11. If you had to pick 3 beers to recommend using only this database, which would you pick and why?](#q11)"
   ]
  },
  {
   "cell_type": "markdown",
   "metadata": {},
   "source": [
    "### Problem description <a class=\"anchor\" id=\"Problemdescription\"></a>\n",
    "\n",
    "Explore the database via python neo4j connector and/or the graphical tool in the NEO4J webpage. Answer the questions. Submit the results by following the instructions\n",
    "\n",
    "\n",
    "### Questions\n",
    "\n",
    "1. How many different countries exist in the database?\n",
    "1. Most reviews:  \n",
    "    1. Which `Beer` has the most reviews?  \n",
    "    1. Which `Brewery` has the most reviews for its beers? [Hint: 5-node path]\n",
    "    1. Which `Country` has the most reviews for its beers? [Hint: 5-node path]\n",
    "1. Find the user/users that have the most shared reviews (reviews of the same beers) with the user CTJman?\n",
    "1. Which Portuguese brewery has the most beers?\n",
    "1. From those beers (the ones returned from the previous question), which has the most reviews?\n",
    "1. On average how many different beer styles does each brewery produce?\n",
    "1. Which brewery produces the strongest beers according to ABV? [Hint: database has NaN values]\n",
    "1. If I typically enjoy a beer due to its aroma and appearance, which beer style should I try? (Justify your answer well!) [Hint: database has NaN values]\n",
    "1. Using Graph Algorithms answer **one** of the following questions: [Hint: make sure to clear the graph before using it again]\n",
    "    1. Which two countries are most similiar when it comes to their **top 10** most produced Beer styles?\n",
    "    2. Which beer is the most influential when considering beers are conected by users who review them? [Please use limit of 1000 on beer-review-user path]]\n",
    "    3. Users are connected together by their reviews to beers, taking into consideration the \"overall\" score they review as a weight, how many communities are formed from these relationships? How many users has the biggest community? [Please use limit of 1000 on beer-review-user path]]\n",
    "1. Using Graph Algorithms answer **one** of the following questions:\n",
    "    1. Which beer has the most similar reviews as the beer `Super Bock Stout`? [Hint:inspect two subsets: with and without the beer in question]\n",
    "    2. Which user is the most influential when it comes to reviews made?\n",
    "1. If you had to pick 3 beers to recommend using only this database, which would you pick and why? (Justify your answer well!) [Hint: database has NaN values]\n",
    "\n",
    "\n",
    "Questions 8 to 10 are somewhat open, which means we'll also be evaluating the reasoning behind your answer. So there aren't necessarily bad results there are only wrong criteria, explanations or execution. \n",
    " \n",
    "### Groups  \n",
    "\n",
    "Groups should have 4 to 5 people.\n",
    "You should register your group on **moodle**.\n",
    "\n",
    "### Submission      \n",
    "\n",
    "The code used to produce the results and respective explations should be uploaded to moodle. They should have a clear reference to the group, either on the file name or on the document itself. Preferably one Jupyter notebook per group.\n",
    "\n",
    "Delivery date: Until the **midnight of March 13**\n",
    "\n",
    "### Evaluation   \n",
    "\n",
    "This will be 20% of the final grade.   \n",
    "Each solution will be evaluated on 2 components: correctness of results and simplicity of the solution.  \n",
    "All code will go through plagiarism automated checks. Groups with the same code will undergo investigation."
   ]
  },
  {
   "cell_type": "markdown",
   "metadata": {},
   "source": [
    "## Loading the Database\n",
    "\n",
    "#### Be sure that you **don't have** the neo4j docker container from the classes running (you can Stop it in the desktop app or with the command \"`docker stop Neo4JLab`\")\n",
    "\n",
    "\n",
    "The default container does not have any data whatsoever, we will have to load a database into our docker image:\n",
    "- Download and unzip the `Neo4JHWData` file provided in Moodle.\n",
    "- Copy the path of the `Neo4JHWData` folder of the unziped file, e.g. `C:\\Users\\###\\Big Data Modelling and Management\\Nuno\\HM1\\Neo4JHWData`.\n",
    "- Download and unzip the `Neo4JPlugins` file provided in Moodle.\n",
    "- Copy the path of the `Neo4JPlugins` folder of the unziped file, e.g. `C:\\Users\\####\\Big Data Modelling and Management\\Nuno\\Neo4JPlugins`.\n",
    "- Change the code bellow accordingly. As you might have noticed, you do not have a user called `nunoa`, please use the appropriate path that you got from the previous step. Be sure that you have a neo4j docker container running: \\\n",
    "\n",
    "`docker run --name Neo4JHW -p 7474:7474 -p 7687:7687 -d -v \"C:\\Big Data Modelling and Management\\Neo4JPlugins\":/plugins -v \"C:\\Big Data Modelling and Management\\Neo4JHWData\\Neo4JHWData\\data\":/data --env NEO4J_AUTH=neo4j/test --env NEO4J_dbms_connector_https_advertised__address=\"localhost:7473\" --env NEO4J_dbms_connector_http_advertised__address=\"localhost:7474\" --env NEO4J_dbms_connector_bolt_advertised__address=\"localhost:7687\" --env NEO4J_dbms_security_procedures_unrestricted=gds.* --env NEO4J_dbms_security_procedures_allowlist=gds.* neo4j:4.4.5`\n",
    "\n",
    "- Since Neo4j is trying to recognize a new database folder, this might take a bit (let's say 3 minutes), so don't worry."
   ]
  },
  {
   "cell_type": "code",
   "execution_count": 3,
   "metadata": {},
   "outputs": [],
   "source": [
    "#importing all needed packages\n",
    "\n",
    "from neo4j import GraphDatabase\n",
    "from pprint import pprint"
   ]
  },
  {
   "cell_type": "code",
   "execution_count": 4,
   "metadata": {},
   "outputs": [],
   "source": [
    "NEO4J_URI=\"neo4j://localhost:7687\"\n",
    "NEO4J_USERNAME=\"neo4j\"\n",
    "NEO4J_PASSWORD=\"test\""
   ]
  },
  {
   "cell_type": "code",
   "execution_count": 5,
   "metadata": {},
   "outputs": [],
   "source": [
    "driver = GraphDatabase.driver(NEO4J_URI, auth=(NEO4J_USERNAME, NEO4J_PASSWORD), )"
   ]
  },
  {
   "cell_type": "markdown",
   "metadata": {},
   "source": [
    "### All The Functions you'll need to run queries in Neo4J <a class=\"anchor\" id=\"AllTheFunctionsyoullneedtorunqueriesinNeo4J\"></a>"
   ]
  },
  {
   "cell_type": "code",
   "execution_count": 6,
   "metadata": {},
   "outputs": [],
   "source": [
    "def execute_read(driver, query):    \n",
    "    with driver.session(database=\"neo4j\") as session:\n",
    "        result = session.read_transaction(lambda tx, query: list(tx.run(query)), query)\n",
    "    return result"
   ]
  },
  {
   "cell_type": "markdown",
   "metadata": {},
   "source": [
    "### Understanding the Database <a class=\"anchor\" id=\"UnderstandingtheDatabase\"></a>"
   ]
  },
  {
   "cell_type": "code",
   "execution_count": 12,
   "metadata": {},
   "outputs": [
    {
     "name": "stdout",
     "output_type": "stream",
     "text": [
      "[<Record label='COUNTRIES'>,\n",
      " <Record label='CITIES'>,\n",
      " <Record label='BREWERIES'>,\n",
      " <Record label='BEERS'>,\n",
      " <Record label='REVIEWS'>,\n",
      " <Record label='STYLE'>,\n",
      " <Record label='USER'>]\n"
     ]
    }
   ],
   "source": [
    "query = \"\"\"\n",
    "        call db.labels();\n",
    "    \"\"\"\n",
    "\n",
    "result = execute_read(driver, query)\n",
    "\n",
    "pprint(result)"
   ]
  },
  {
   "cell_type": "code",
   "execution_count": 13,
   "metadata": {},
   "outputs": [
    {
     "name": "stdout",
     "output_type": "stream",
     "text": [
      "[<Record relationshipType='REVIEWED'>,\n",
      " <Record relationshipType='BREWED'>,\n",
      " <Record relationshipType='IN'>,\n",
      " <Record relationshipType='HAS_STYLE'>,\n",
      " <Record relationshipType='POSTED'>]\n"
     ]
    }
   ],
   "source": [
    "query = \"\"\"\n",
    "        CALL db.relationshipTypes();\n",
    "    \"\"\"\n",
    "\n",
    "result = execute_read(driver, query)\n",
    "\n",
    "pprint(result)"
   ]
  },
  {
   "cell_type": "markdown",
   "metadata": {},
   "source": [
    "# Submission\n",
    "\n",
    "GROUP NUMBER:\n",
    "\n",
    "**Group 20**\n",
    "\n",
    "GROUP MEMBERS:\n",
    "\n",
    "|STUDENT NAME|\n",
    "|---|\n",
    "|Daniel Torres|\n",
    "|Yousef Ebrahimi|\n",
    "|Evans Onorieru|\n",
    "|João Pólvora|\n",
    "|Luca Loureiro|"
   ]
  },
  {
   "cell_type": "markdown",
   "metadata": {},
   "source": [
    "#### 1. How many different countries exist in the database? <a class=\"anchor\" id=\"q1\"></a>"
   ]
  },
  {
   "cell_type": "code",
   "execution_count": 17,
   "metadata": {},
   "outputs": [
    {
     "name": "stdout",
     "output_type": "stream",
     "text": [
      "[<Record Countries_In_DB=200>]\n"
     ]
    }
   ],
   "source": [
    "#We used the count function with the DISTINCT keyword, \n",
    "#the query only counts unique instances of the name \n",
    "#among the nodes that match.\n",
    "\n",
    "query = \"\"\"\n",
    "    MATCH (c:COUNTRIES)\n",
    "    RETURN count(DISTINCT c.name) AS Countries_In_DB\n",
    "\"\"\"\n",
    "\n",
    "result = execute_read(driver, query)\n",
    "pprint(result)\n"
   ]
  },
  {
   "cell_type": "markdown",
   "metadata": {},
   "source": [
    "#### 2. Most reviews:   <a class=\"anchor\" id=\"q2\"></a>\n",
    "    A) Which `Beer` has the most reviews?  \n",
    "    B) Which `Brewery` has the most reviews for its beers?\n",
    "    C) Which `Country` has the most reviews for its beers? "
   ]
  },
  {
   "cell_type": "code",
   "execution_count": 18,
   "metadata": {},
   "outputs": [
    {
     "name": "stdout",
     "output_type": "stream",
     "text": [
      "[<Record beer='IPA' number_of_reviews=31387>]\n"
     ]
    }
   ],
   "source": [
    "#A) \n",
    "\n",
    "#in order to find the most review 'Beer' we used a MATCH clause\n",
    "#to match BEERS nodes that are connected to REVIEWS nodes by \n",
    "#the REVIEWED relationship.\n",
    "\n",
    "query = \"\"\"\n",
    "        MATCH (b:BEERS)-[:REVIEWED]->(r:REVIEWS)\n",
    "        RETURN b.name AS beer, count(r) AS number_of_reviews\n",
    "        ORDER BY number_of_reviews DESC\n",
    "        LIMIT 1\n",
    "\n",
    "\"\"\"\n",
    "\n",
    "result = execute_read(driver, query)\n",
    "pprint(result)"
   ]
  },
  {
   "cell_type": "code",
   "execution_count": 19,
   "metadata": {},
   "outputs": [
    {
     "name": "stdout",
     "output_type": "stream",
     "text": [
      "[<Record br.name='Sierra Nevada Brewing Co.' num_reviews=175161>]\n"
     ]
    }
   ],
   "source": [
    "#B) \n",
    "\n",
    "#Following the path BREWERIES-brewed-BEERS-reviews-REVIEWS\n",
    "#count number of reviews grouped by brewery.name\n",
    "\n",
    "query = \"\"\"\n",
    "        MATCH (br:BREWERIES)-[:BREWED]->(b:BEERS),(b:BEERS)-[:REVIEWED]->(r:REVIEWS)\n",
    "        RETURN br.name, count(r) as num_reviews\n",
    "        ORDER BY num_reviews DESC\n",
    "        LIMIT 1\n",
    "\"\"\"\n",
    "\n",
    "result = execute_read(driver, query)\n",
    "pprint(result)\n"
   ]
  },
  {
   "cell_type": "code",
   "execution_count": 20,
   "metadata": {},
   "outputs": [
    {
     "name": "stdout",
     "output_type": "stream",
     "text": [
      "[<Record co.name='US' num_reviews=7675804>]\n"
     ]
    }
   ],
   "source": [
    "#C) \n",
    "\n",
    "#Following the nodes REVIEWS-review-BEERS-brewed-BREWERIES-in-CITIES-in-COUNTRIES\n",
    "#count number of reviews by country.name\n",
    "\n",
    "query = \"\"\"\n",
    "\n",
    "        MATCH (co:COUNTRIES)<-[:IN]-(c:CITIES),(c:CITIES)<-[:IN]-(br:BREWERIES),\n",
    "        (br:BREWERIES)-[:BREWED]->(b:BEERS),(b:BEERS)-[:REVIEWED]->(r:REVIEWS)\n",
    "        RETURN co.name, count(r) as num_reviews\n",
    "        ORDER BY num_reviews DESC\n",
    "        LIMIT 1\n",
    "\n",
    "\"\"\"\n",
    "\n",
    "result = execute_read(driver, query)\n",
    "pprint(result)\n"
   ]
  },
  {
   "cell_type": "markdown",
   "metadata": {},
   "source": [
    "#### 3. Find the user/users that have the most shared reviews (reviews of the same beers) with the user CTJman?   <a class=\"anchor\" id=\"q3\"></a>"
   ]
  },
  {
   "cell_type": "code",
   "execution_count": 21,
   "metadata": {},
   "outputs": [
    {
     "name": "stdout",
     "output_type": "stream",
     "text": [
      "[<Record User='acurtis' most_shared_reviews=1428>]\n"
     ]
    }
   ],
   "source": [
    "#finding the CTJman user who shared reviews at most for the same beers by matching the reviews to beers and\n",
    "#then count them. Actually we checked the relationship between two users who reviews the beers.\n",
    "\n",
    "query = \"\"\"\n",
    "        MATCH (u:USER)<-[:POSTED]-(r:REVIEWS)<-[:REVIEWED]-(b:BEERS)-[:REVIEWED]->(re:REVIEWS)-[:POSTED]->(user:USER)\n",
    "        where u.name= \"CTJman\"\n",
    "        RETURN user.name AS User, COUNT(DISTINCT b) AS most_shared_reviews\n",
    "        order by most_shared_reviews desc\n",
    "        LIMIT 1\n",
    "    \"\"\"\n",
    "\n",
    "result = execute_read(driver, query)\n",
    "\n",
    "pprint(result)\n"
   ]
  },
  {
   "cell_type": "markdown",
   "metadata": {},
   "source": [
    "#### 4. Which Portuguese brewery has the most beers?   <a class=\"anchor\" id=\"q4\"></a>"
   ]
  },
  {
   "cell_type": "code",
   "execution_count": 22,
   "metadata": {},
   "outputs": [
    {
     "name": "stdout",
     "output_type": "stream",
     "text": [
      "[<Record brewery_name='Dois Corvos Cervejeira' num_beers=40>]\n"
     ]
    }
   ],
   "source": [
    "#Following the nodes BEERS-brewed-BREWERIES-in-CITIES-in-COUNTRIES\n",
    "#and then we use size funtcion to Count the paths matching the Brewed with Beers\n",
    "#filter country.name = 'PT'\n",
    "\n",
    "query = \"\"\"\n",
    "        MATCH (b:BREWERIES)-[:IN]->(:CITIES)-[:IN]->(:COUNTRIES {name: \"PT\"})\n",
    "        WITH b, size((b)-[:BREWED]->(:BEERS)) AS num_beers\n",
    "        ORDER BY num_beers DESC\n",
    "        LIMIT 1\n",
    "        RETURN b.name AS brewery_name, num_beers AS num_beers\n",
    "\n",
    "    \"\"\"\n",
    "\n",
    "result = execute_read(driver, query)\n",
    "\n",
    "pprint(result)"
   ]
  },
  {
   "cell_type": "markdown",
   "metadata": {},
   "source": [
    "#### 5. From those beers (the ones produced in the brewery from the previous question), which has the most reviews?   <a class=\"anchor\" id=\"q5\"></a>"
   ]
  },
  {
   "cell_type": "code",
   "execution_count": 23,
   "metadata": {},
   "outputs": [
    {
     "name": "stdout",
     "output_type": "stream",
     "text": [
      "[<Record b.name='Finisterra' num_reviews=10>]\n"
     ]
    }
   ],
   "source": [
    "#Following the nodes BREWERIES-brew-BEERS-reviewed-REVIEWS\n",
    "#count the number of reviews nodes\n",
    "#associated with breweries.name ='Dois Corvos'\n",
    "\n",
    "query = \"\"\"\n",
    "    MATCH (br:BREWERIES{name:'Dois Corvos Cervejeira'})-[:BREWED]->(b:BEERS),(b:BEERS)-[:REVIEWED]->(r:REVIEWS)\n",
    "    RETURN b.name, count(r) as num_reviews\n",
    "    ORDER BY num_reviews DESC\n",
    "    LIMIT 1\n",
    "\"\"\"\n",
    "\n",
    "result = execute_read(driver, query)\n",
    "pprint(result)"
   ]
  },
  {
   "cell_type": "markdown",
   "metadata": {},
   "source": [
    "#### 6. On average how many different beer styles does each brewery produce?   <a class=\"anchor\" id=\"q6\"></a>"
   ]
  },
  {
   "cell_type": "code",
   "execution_count": 45,
   "metadata": {},
   "outputs": [
    {
     "name": "stdout",
     "output_type": "stream",
     "text": [
      "[<Record Avg_Beer_in_Brewery=10.66997731592179>]\n"
     ]
    }
   ],
   "source": [
    "#Following the path BREWERIES-brewed-BEERS-has_style-STYLE\n",
    "#count the number of different styles each brewery produce and \n",
    "#compute the average on the count\n",
    "#Use distinct because a brewery can produce the same style on different beers\n",
    "\n",
    "query = \"\"\"\n",
    "        MATCH (br:BREWERIES)-[:BREWED]->(:BEERS)-[:HAS_STYLE]->(s:STYLE)\n",
    "        WITH br.name AS Brewery, COUNT(DISTINCT s) AS count\n",
    "        RETURN avg(count) AS Avg_Beer_in_Brewery\n",
    "    \n",
    "\"\"\"\n",
    "\n",
    "result = execute_read(driver, query)\n",
    "\n",
    "pprint(result)\n"
   ]
  },
  {
   "cell_type": "markdown",
   "metadata": {},
   "source": [
    "#### 7. Which brewery produces the strongest beers according to ABV?   <a class=\"anchor\" id=\"q7\"></a>"
   ]
  },
  {
   "cell_type": "code",
   "execution_count": 25,
   "metadata": {},
   "outputs": [
    {
     "name": "stdout",
     "output_type": "stream",
     "text": [
      "[<Record br.name='1648 Brewing Company Ltd' avg_score=25.57777777777778>]\n"
     ]
    }
   ],
   "source": [
    "#Following the path BREWERIES-brew-BEERS\n",
    "#calculate abv average, excluding nan\n",
    "#order by average result\n",
    "#b.abv <> 'nan' means consider abv different from nan\n",
    "\n",
    "query = \"\"\"\n",
    "    MATCH (br:BREWERIES)-[:BREWED]->(b:BEERS)\n",
    "    WHERE b.abv <> 'nan'\n",
    "    RETURN br.name, avg(toFloat(b.abv)) as avg_score\n",
    "    ORDER BY avg_score DESC\n",
    "    LIMIT 1\n",
    "\"\"\"\n",
    "\n",
    "result = execute_read(driver, query)\n",
    "\n",
    "pprint(result)\n"
   ]
  },
  {
   "cell_type": "markdown",
   "metadata": {},
   "source": [
    "#### 8. If I typically enjoy a beer due to its aroma and appearance, which beer style should I try?   <a class=\"anchor\" id=\"q8\"></a>"
   ]
  },
  {
   "cell_type": "code",
   "execution_count": 26,
   "metadata": {},
   "outputs": [
    {
     "name": "stdout",
     "output_type": "stream",
     "text": [
      "[<Record Style='New England IPA' Aroma_Appearance_Score=8.8 Review_Count=110696>]\n"
     ]
    }
   ],
   "source": [
    "#Following the path BEERS-has_style-STYLE and BEERS-reviewed-REVIEWS\n",
    "#sum look and smell of each review by style\n",
    "#order the sum to get the one with high score\n",
    "\n",
    "query = \"\"\"\n",
    "        MATCH (s:STYLE)<-[:HAS_STYLE]-(b:BEERS),(b:BEERS)-[:REVIEWED]->(r:REVIEWS)\n",
    "        WHERE s.name <> 'nan' AND r.smell <> 'nan' AND r.look <> 'nan'\n",
    "        RETURN s.name AS Style, round((avg(toFloat(r.smell))) + (avg(toFloat(r.look))),1) AS Aroma&Appearance_Score, count(r) AS Review\n",
    "        ORDER BY Aroma&Appearance_Score DESC\n",
    "        LIMIT 1\n",
    "\"\"\"\n",
    "result = execute_read(driver, query)\n",
    "pprint(result)\n"
   ]
  },
  {
   "cell_type": "markdown",
   "metadata": {},
   "source": [
    "#### 9. Using Graph Algorithms answer **one** of the following questions:   <a class=\"anchor\" id=\"q9\"></a>\n",
    "    1. Which two countries are most similiar when it comes to their **top 10** most produced Beer styles?\n",
    "    2. Which beer is the most influential when considering beers are conected by users who review them?\n",
    "    3. Users are connected together by their reviews to beers, taking into consideration the \"overall\" score they review as a weight, how many communities are formed from these relationships? How many users has the biggest community?"
   ]
  },
  {
   "cell_type": "code",
   "execution_count": 22,
   "metadata": {},
   "outputs": [
    {
     "name": "stderr",
     "output_type": "stream",
     "text": [
      "C:\\Users\\lucal\\AppData\\Local\\Temp\\ipykernel_14896\\1008916601.py:3: DeprecationWarning: read_transaction has been renamed to execute_read\n",
      "  result = session.read_transaction(lambda tx, query: list(tx.run(query)), query)\n"
     ]
    },
    {
     "name": "stdout",
     "output_type": "stream",
     "text": [
      "ClientError('Failed to invoke procedure `gds.graph.drop`: Caused by: java.util.NoSuchElementException: Graph with name `BEER` does not exist on database `neo4j`. It might exist on another database.')\n"
     ]
    }
   ],
   "source": [
    "# Step 0 - Clear graph, graph names need to be unique\n",
    "\n",
    "try:\n",
    "    query = \"\"\"\n",
    "            CALL gds.graph.drop('BEER') YIELD graphName;\n",
    "        \"\"\"\n",
    "\n",
    "    result = execute_read(driver, query)\n",
    "\n",
    "    pprint(result)\n",
    "except Exception as e:\n",
    "    pprint(e)"
   ]
  },
  {
   "cell_type": "code",
   "execution_count": 23,
   "metadata": {},
   "outputs": [
    {
     "name": "stderr",
     "output_type": "stream",
     "text": [
      "C:\\Users\\lucal\\AppData\\Local\\Temp\\ipykernel_14896\\1008916601.py:3: DeprecationWarning: read_transaction has been renamed to execute_read\n",
      "  result = session.read_transaction(lambda tx, query: list(tx.run(query)), query)\n"
     ]
    },
    {
     "name": "stdout",
     "output_type": "stream",
     "text": [
      "[<Record nodeQuery='MATCH (b:BEERS) RETURN id(b) AS id' relationshipQuery='MATCH (u:User)<-[:POSTED]-(r:REVIEWS)<-[:REVIEWED]-(b:BEERS) RETURN id(u) AS source, r.id as weight, id(b) AS target' graphName='beer_influential' nodeCount=358873 relationshipCount=0 projectMillis=2759>]\n"
     ]
    }
   ],
   "source": [
    "# Step 1 - Create an appropriate graph\n",
    "\n",
    "try:\n",
    "    query = \"\"\"\n",
    "        CALL gds.graph.project.cypher(\n",
    "            'beer_influential',\n",
    "            'MATCH (b:BEERS) RETURN id(b) AS id',\n",
    "            'MATCH (u:User)<-[:POSTED]-(r:REVIEWS)<-[:REVIEWED]-(b:BEERS) RETURN id(u) AS source, r.id as weight, id(b) AS target'\n",
    "            )\n",
    "        \"\"\"\n",
    "\n",
    "    result = execute_read(driver, query)\n",
    "\n",
    "    pprint(result)\n",
    "except Exception as e:\n",
    "    pprint(e)"
   ]
  },
  {
   "cell_type": "code",
   "execution_count": 25,
   "metadata": {},
   "outputs": [
    {
     "name": "stderr",
     "output_type": "stream",
     "text": [
      "C:\\Users\\lucal\\AppData\\Local\\Temp\\ipykernel_14896\\1008916601.py:3: DeprecationWarning: read_transaction has been renamed to execute_read\n",
      "  result = session.read_transaction(lambda tx, query: list(tx.run(query)), query)\n"
     ]
    },
    {
     "name": "stdout",
     "output_type": "stream",
     "text": [
      "[<Record name='Konrads Stout Russian Imperial Stout' score=0.15000000000000002>,\n",
      " <Record name='Scottish Right' score=0.15000000000000002>,\n",
      " <Record name='MegaMeow Imperial Stout' score=0.15000000000000002>,\n",
      " <Record name='Peaches-N-Cream' score=0.15000000000000002>,\n",
      " <Record name='Olde Cogitator' score=0.15000000000000002>]\n"
     ]
    }
   ],
   "source": [
    "# Step 2 - Run the algorithm\n",
    "\n",
    "try:\n",
    "    query = \"\"\"\n",
    "        CALL gds.pageRank.stream('beer_influential', {relationshipWeightProperty:'weight'})\n",
    "            YIELD nodeId, score\n",
    "            RETURN gds.util.asNode(nodeId).name AS name, score\n",
    "            ORDER BY score desc\n",
    "            limit 5\n",
    "        \"\"\"\n",
    "\n",
    "    result = execute_read(driver, query)\n",
    "\n",
    "    pprint(result)\n",
    "except Exception as e:\n",
    "    pprint(e)"
   ]
  },
  {
   "cell_type": "markdown",
   "metadata": {},
   "source": [
    "#### 10. Using Graph Algorithms answer **one** of the following questions:   <a class=\"anchor\" id=\"q10\"></a>\n",
    "    1. Which beer has the most similar reviews as the beer `Super Bock Stout`?\n",
    "    2. Which user is the most influential when it comes to reviews made?"
   ]
  },
  {
   "cell_type": "code",
   "execution_count": 11,
   "metadata": {},
   "outputs": [
    {
     "name": "stderr",
     "output_type": "stream",
     "text": [
      "C:\\Users\\lucal\\AppData\\Local\\Temp\\ipykernel_14896\\1008916601.py:3: DeprecationWarning: read_transaction has been renamed to execute_read\n",
      "  result = session.read_transaction(lambda tx, query: list(tx.run(query)), query)\n"
     ]
    },
    {
     "name": "stdout",
     "output_type": "stream",
     "text": [
      "ClientError('Failed to invoke procedure `gds.graph.drop`: Caused by: java.util.NoSuchElementException: Graph with name `Beer_Graph` does not exist on database `neo4j`. It might exist on another database.')\n"
     ]
    }
   ],
   "source": [
    "#step 0\n",
    "\n",
    "try:\n",
    "    query = \"\"\"\n",
    "            CALL gds.graph.drop('Beer_Graph') YIELD graphName;\n",
    "        \"\"\"\n",
    "\n",
    "    result = execute_read(driver, query)\n",
    "\n",
    "    pprint(result)\n",
    "except Exception as e:\n",
    "    pprint(e)"
   ]
  },
  {
   "cell_type": "code",
   "execution_count": 12,
   "metadata": {},
   "outputs": [
    {
     "name": "stderr",
     "output_type": "stream",
     "text": [
      "C:\\Users\\lucal\\AppData\\Local\\Temp\\ipykernel_14896\\1008916601.py:3: DeprecationWarning: read_transaction has been renamed to execute_read\n",
      "  result = session.read_transaction(lambda tx, query: list(tx.run(query)), query)\n"
     ]
    },
    {
     "name": "stdout",
     "output_type": "stream",
     "text": [
      "[<Record nodeProjection={'REVIEWS': {'label': 'REVIEWS', 'properties': {}}, 'USER': {'label': 'USER', 'properties': {}}} relationshipProjection={'POSTED': {'orientation': 'NATURAL', 'aggregation': 'DEFAULT', 'type': 'POSTED', 'properties': {}}} graphName='Beer_Graph' nodeCount=9238063 relationshipCount=9073109 projectMillis=23188>]\n"
     ]
    }
   ],
   "source": [
    "#Step 1 - Create an appropriate graph\n",
    "\n",
    "try:\n",
    "    query = \"\"\"\n",
    "        CALL gds.graph.project('Beer_Graph',['USER', 'REVIEWS'],{POSTED:{}})\n",
    "        \"\"\"\n",
    "\n",
    "    result = execute_read(driver, query)\n",
    "\n",
    "    pprint(result)\n",
    "except Exception as e:\n",
    "    pprint(e)"
   ]
  },
  {
   "cell_type": "code",
   "execution_count": 20,
   "metadata": {},
   "outputs": [
    {
     "name": "stderr",
     "output_type": "stream",
     "text": [
      "C:\\Users\\lucal\\AppData\\Local\\Temp\\ipykernel_14896\\1008916601.py:3: DeprecationWarning: read_transaction has been renamed to execute_read\n",
      "  result = session.read_transaction(lambda tx, query: list(tx.run(query)), query)\n"
     ]
    },
    {
     "name": "stdout",
     "output_type": "stream",
     "text": [
      "[<Record Username='Sammy' most_influential=1759.27>]\n"
     ]
    }
   ],
   "source": [
    "#Step 2\n",
    "#As we can see the most influencial user is the person who posted\n",
    "#a lot of reviews\n",
    "#and we used the page rank code from lab 3 to find\n",
    "#https://neo4j.com/docs/graph-data-science/current/algorithms/page-rank/ \n",
    "\n",
    "try:\n",
    "    query = \"\"\"\n",
    "        CALL gds.pageRank.stream('Beer_Graph')\n",
    "        YIELD nodeId, score\n",
    "        RETURN gds.util.asNode(nodeId).name AS Username, round(score, 2) AS most_influential\n",
    "        ORDER BY most_influential DESC \n",
    "        LIMIT 1\n",
    "        \"\"\"\n",
    "    result = execute_read(driver, query)\n",
    "    pprint(result)\n",
    "except Exception as e:\n",
    "    pprint(e)"
   ]
  },
  {
   "cell_type": "markdown",
   "metadata": {},
   "source": [
    "#### 11. If you had to pick 3 beers to recommend using only this database, which would you pick and why?   <a class=\"anchor\" id=\"q11\"></a>"
   ]
  },
  {
   "cell_type": "code",
   "execution_count": 39,
   "metadata": {},
   "outputs": [
    {
     "name": "stdout",
     "output_type": "stream",
     "text": [
      "[<Record Beer_Name='Breakfast Stout' Avg_Score=4.5 Best_Review=17573>,\n",
      " <Record Beer_Name='90 Minute IPA' Avg_Score=4.3 Best_Review=15947>,\n",
      " <Record Beer_Name='Pliny The Elder' Avg_Score=4.6 Best_Review=14927>]\n"
     ]
    }
   ],
   "source": [
    "#We checked the beers with score over 4 becuase the higher score means the better ones.\n",
    "#Also based on this ranking: https://www.beeradvocate.com/beer/top-rated/\n",
    "#top best ranking beers are from USA so, we choose us as the best country for finding the 3 best beers\n",
    "\n",
    "query = \"\"\"\n",
    "     MATCH (c:COUNTRIES)<-[]-(:CITIES)<-[]-(:BREWERIES)-[]->(b:BEERS)-[r:REVIEWED]->(re:REVIEWS)\n",
    "     WHERE re.score <> 'nan' AND c.name ='US'\n",
    "     WITH b.name as Beer_Name, round(avg(toFloat(re.score)),1) as Avg_Score, count(re) AS Best_Review\n",
    "     WHERE Avg_Score > 4\n",
    "     Return Beer_Name, Avg_Score, Best_Review\n",
    "     ORDER BY Best_Review DESC\n",
    "     LIMIT 3\n",
    "\"\"\"\n",
    "\n",
    "result = execute_read(driver, query)\n",
    "pprint(result)\n"
   ]
  }
 ],
 "metadata": {
  "hide_input": false,
  "kernelspec": {
   "display_name": "Python 3 (ipykernel)",
   "language": "python",
   "name": "python3"
  },
  "language_info": {
   "codemirror_mode": {
    "name": "ipython",
    "version": 3
   },
   "file_extension": ".py",
   "mimetype": "text/x-python",
   "name": "python",
   "nbconvert_exporter": "python",
   "pygments_lexer": "ipython3",
   "version": "3.9.12"
  },
  "toc": {
   "base_numbering": 1,
   "nav_menu": {},
   "number_sections": true,
   "sideBar": true,
   "skip_h1_title": false,
   "title_cell": "Table of Contents",
   "title_sidebar": "Contents",
   "toc_cell": false,
   "toc_position": {},
   "toc_section_display": true,
   "toc_window_display": false
  },
  "varInspector": {
   "cols": {
    "lenName": 16,
    "lenType": 16,
    "lenVar": 40
   },
   "kernels_config": {
    "python": {
     "delete_cmd_postfix": "",
     "delete_cmd_prefix": "del ",
     "library": "var_list.py",
     "varRefreshCmd": "print(var_dic_list())"
    },
    "r": {
     "delete_cmd_postfix": ") ",
     "delete_cmd_prefix": "rm(",
     "library": "var_list.r",
     "varRefreshCmd": "cat(var_dic_list()) "
    }
   },
   "types_to_exclude": [
    "module",
    "function",
    "builtin_function_or_method",
    "instance",
    "_Feature"
   ],
   "window_display": false
  }
 },
 "nbformat": 4,
 "nbformat_minor": 4
}
